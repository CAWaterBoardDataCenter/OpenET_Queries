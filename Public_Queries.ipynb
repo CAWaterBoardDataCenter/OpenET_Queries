{
  "cells": [
    {
      "cell_type": "markdown",
      "metadata": {
        "id": "view-in-github",
        "colab_type": "text"
      },
      "source": [
        "<a href=\"https://colab.research.google.com/github/CAWaterBoardDataCenter/OpenET_Queries/blob/main/Public_Queries.ipynb\" target=\"_parent\"><img src=\"https://colab.research.google.com/assets/colab-badge.svg\" alt=\"Open In Colab\"/></a>"
      ]
    },
    {
      "cell_type": "code",
      "execution_count": null,
      "metadata": {
        "id": "nehRh_aCYccy"
      },
      "outputs": [],
      "source": [
        "# access token\n",
        "api_key = \"\" #Add your key within the \"\""
      ]
    },
    {
      "cell_type": "code",
      "execution_count": null,
      "metadata": {
        "id": "OKlWBTrcYixr"
      },
      "outputs": [],
      "source": [
        "import json\n",
        "import requests\n",
        "\n",
        "# remove warning message\n",
        "requests.packages.urllib3.disable_warnings(requests.packages.urllib3.exceptions.InsecureRequestWarning)\n",
        "\n",
        "def call_api(endpoint, api_key, args, post=True):\n",
        "    \"\"\"Using user specified inputs, returns data from OpenET's API.\n",
        "\n",
        "    Args:\n",
        "        endpoint (str): Raster API endpoint\n",
        "\n",
        "        api_key (str): Required api access key\n",
        "\n",
        "        args (dictionary): User specified arguments for api call\n",
        "\n",
        "    Returns:\n",
        "        result (object): An object of Raster API results\n",
        "    \"\"\"\n",
        "\n",
        "    # api server address\n",
        "    server = 'https://openet.dri.edu/'\n",
        "\n",
        "    # initialize request url\n",
        "    url = server + endpoint\n",
        "\n",
        "    # create header\n",
        "    header = {\"Authorization\": api_key}\n",
        "\n",
        "    # make api request\n",
        "    if post == False:\n",
        "        resp = requests.get(url=url, headers=header, params=args, verify=False)\n",
        "    else:\n",
        "        resp = requests.post(url=url, data=json.dumps(args), headers=header, verify=False)\n",
        "\n",
        "    # view results\n",
        "    return resp.text\n",
        "    "
      ]
    },
    {
      "cell_type": "code",
      "execution_count": null,
      "metadata": {
        "id": "CNpP3Q07Ymvk"
      },
      "outputs": [],
      "source": [
        "# raster api endpoint\n",
        "endpoint = 'raster/timeseries/multipolygon'\n",
        "\n",
        "# endpoint arguments\n",
        "args = {\n",
        "    # temporal options\n",
        "    'start_date' : '2022-8-01',                                  # inclusive starting date\n",
        "    'end_date'   : '2022-10-01',                                  # inclusive completion date\n",
        "    'interval'  : 'monthly',\n",
        "    # spatial options\n",
        "    'shapefile_asset_id' : 'users/lindsaykammeier/DDRPP_Merged_220927_1_30m_Elev',    #UPDATE file name from Asset > Table ID https://code.earthengine.google.com/ (Don't forget to share file with openet@googlegroups.com) \n",
        "    'include_columns'   : 'Name,DDRPP_Nm,Sort_Typ,Proj_Adj,2021_Crop,2022_Crop,_mean,_min,_max',                                  #UPDATE to column names specific for file [DDRPP_Nm,Sort_Typ,Proj_Adj,Crop_2022,Crop_2021,descrip,layer]\n",
        "    # OpenET options\n",
        "    'variable'      : 'et',                                       # variable to retrieve (ndvi, etof, eto, et, pr)\n",
        "    'model'         : 'ensemble',                                 # model selection (ensemble, geesebal, ssebop, eemetric, sims, disalexi, ptjpl)\n",
        "    'ref_et_source' : 'cimis',                                    # reference et collection (cimis, gridmet)\n",
        "    'provisional'  : 'true',\n",
        "    # data processing options\n",
        "    'units'         : 'english',                                  # output units (metric [mm], english [in])\n",
        "    'filename_suffix' : 'public_export'                             # filename to append\n",
        "}\n",
        "\n",
        "vars = ['et','et_mad_min','et_mad_max']                                      #Options: et, eto, pr; ndvi?\n",
        "models = ['ensemble']                           #What are options? ensemble, range, eemetric, ssebop, sims, pt-jpl, disalexi, geesebal\n",
        "for var in vars:\n",
        "    for model in models:\n",
        "\n",
        "        # update\n",
        "        args.update({'variable': var})\n",
        "        args.update({'model': model})\n",
        "    \n",
        "        # query result\n",
        "        response = call_api(endpoint, api_key, args, post=False)\n",
        "\n",
        "        # cast as a dictionary \n",
        "        response = json.loads(response)\n",
        "        print(response)"
      ]
    }
  ],
  "metadata": {
    "colab": {
      "collapsed_sections": [],
      "provenance": [],
      "include_colab_link": true
    },
    "kernelspec": {
      "display_name": "Python 3",
      "name": "python3"
    },
    "language_info": {
      "name": "python"
    }
  },
  "nbformat": 4,
  "nbformat_minor": 0
}